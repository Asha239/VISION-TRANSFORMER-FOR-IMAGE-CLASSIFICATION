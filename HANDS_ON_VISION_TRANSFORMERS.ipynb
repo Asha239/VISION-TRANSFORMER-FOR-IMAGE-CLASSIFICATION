{
  "nbformat": 4,
  "nbformat_minor": 0,
  "metadata": {
    "colab": {
      "provenance": []
    },
    "kernelspec": {
      "name": "python3",
      "display_name": "Python 3"
    },
    "language_info": {
      "name": "python"
    }
  },
  "cells": [
    {
      "cell_type": "code",
      "execution_count": null,
      "metadata": {
        "colab": {
          "base_uri": "https://localhost:8080/"
        },
        "id": "HQIVRMKkRCKz",
        "outputId": "cdbdcc44-db6c-4e8f-ce13-7c7401819404"
      },
      "outputs": [
        {
          "output_type": "stream",
          "name": "stdout",
          "text": [
            "\n",
            "Usage:   \n",
            "  pip3 install [options] <requirement specifier> [package-index-options] ...\n",
            "  pip3 install [options] -r <requirements file> [package-index-options] ...\n",
            "  pip3 install [options] [-e] <vcs project url> ...\n",
            "  pip3 install [options] [-e] <local project path> ...\n",
            "  pip3 install [options] <archive url/path> ...\n",
            "\n",
            "no such option: -y\n",
            "Requirement already satisfied: pmdarima in /usr/local/lib/python3.10/dist-packages (2.0.2)\n",
            "Collecting pmdarima\n",
            "  Using cached pmdarima-2.0.4-cp310-cp310-manylinux_2_17_x86_64.manylinux2014_x86_64.manylinux_2_28_x86_64.whl (2.1 MB)\n",
            "Requirement already satisfied: joblib>=0.11 in /usr/local/lib/python3.10/dist-packages (from pmdarima) (1.3.2)\n",
            "Requirement already satisfied: Cython!=0.29.18,!=0.29.31,>=0.29 in /usr/local/lib/python3.10/dist-packages (from pmdarima) (3.0.5)\n",
            "Requirement already satisfied: numpy>=1.21.2 in /usr/local/lib/python3.10/dist-packages (from pmdarima) (1.23.5)\n",
            "Requirement already satisfied: pandas>=0.19 in /usr/local/lib/python3.10/dist-packages (from pmdarima) (1.5.3)\n",
            "Requirement already satisfied: scikit-learn>=0.22 in /usr/local/lib/python3.10/dist-packages (from pmdarima) (1.3.2)\n",
            "Requirement already satisfied: scipy>=1.3.2 in /usr/local/lib/python3.10/dist-packages (from pmdarima) (1.11.3)\n",
            "Requirement already satisfied: statsmodels>=0.13.2 in /usr/local/lib/python3.10/dist-packages (from pmdarima) (0.14.0)\n",
            "Requirement already satisfied: urllib3 in /usr/local/lib/python3.10/dist-packages (from pmdarima) (2.0.7)\n",
            "Requirement already satisfied: setuptools!=50.0.0,>=38.6.0 in /usr/local/lib/python3.10/dist-packages (from pmdarima) (67.7.2)\n",
            "Requirement already satisfied: packaging>=17.1 in /usr/local/lib/python3.10/dist-packages (from pmdarima) (23.2)\n",
            "Requirement already satisfied: python-dateutil>=2.8.1 in /usr/local/lib/python3.10/dist-packages (from pandas>=0.19->pmdarima) (2.8.2)\n",
            "Requirement already satisfied: pytz>=2020.1 in /usr/local/lib/python3.10/dist-packages (from pandas>=0.19->pmdarima) (2023.3.post1)\n",
            "Requirement already satisfied: threadpoolctl>=2.0.0 in /usr/local/lib/python3.10/dist-packages (from scikit-learn>=0.22->pmdarima) (3.2.0)\n",
            "Requirement already satisfied: patsy>=0.5.2 in /usr/local/lib/python3.10/dist-packages (from statsmodels>=0.13.2->pmdarima) (0.5.3)\n",
            "Requirement already satisfied: six in /usr/local/lib/python3.10/dist-packages (from patsy>=0.5.2->statsmodels>=0.13.2->pmdarima) (1.16.0)\n",
            "Installing collected packages: pmdarima\n",
            "  Attempting uninstall: pmdarima\n",
            "    Found existing installation: pmdarima 2.0.2\n",
            "    Uninstalling pmdarima-2.0.2:\n",
            "      Successfully uninstalled pmdarima-2.0.2\n",
            "Successfully installed pmdarima-2.0.4\n",
            "Collecting pmdarima==2.0.2\n",
            "  Using cached pmdarima-2.0.2-cp310-cp310-manylinux_2_17_x86_64.manylinux2014_x86_64.manylinux_2_28_x86_64.whl (1.8 MB)\n",
            "Requirement already satisfied: joblib>=0.11 in /usr/local/lib/python3.10/dist-packages (from pmdarima==2.0.2) (1.3.2)\n",
            "Requirement already satisfied: Cython!=0.29.18,!=0.29.31,>=0.29 in /usr/local/lib/python3.10/dist-packages (from pmdarima==2.0.2) (3.0.5)\n",
            "Requirement already satisfied: numpy>=1.21.2 in /usr/local/lib/python3.10/dist-packages (from pmdarima==2.0.2) (1.23.5)\n",
            "Requirement already satisfied: pandas>=0.19 in /usr/local/lib/python3.10/dist-packages (from pmdarima==2.0.2) (1.5.3)\n",
            "Requirement already satisfied: scikit-learn>=0.22 in /usr/local/lib/python3.10/dist-packages (from pmdarima==2.0.2) (1.3.2)\n",
            "Requirement already satisfied: scipy>=1.3.2 in /usr/local/lib/python3.10/dist-packages (from pmdarima==2.0.2) (1.11.3)\n",
            "Requirement already satisfied: statsmodels>=0.13.2 in /usr/local/lib/python3.10/dist-packages (from pmdarima==2.0.2) (0.14.0)\n",
            "Requirement already satisfied: urllib3 in /usr/local/lib/python3.10/dist-packages (from pmdarima==2.0.2) (2.0.7)\n",
            "Requirement already satisfied: setuptools!=50.0.0,>=38.6.0 in /usr/local/lib/python3.10/dist-packages (from pmdarima==2.0.2) (67.7.2)\n",
            "Requirement already satisfied: python-dateutil>=2.8.1 in /usr/local/lib/python3.10/dist-packages (from pandas>=0.19->pmdarima==2.0.2) (2.8.2)\n",
            "Requirement already satisfied: pytz>=2020.1 in /usr/local/lib/python3.10/dist-packages (from pandas>=0.19->pmdarima==2.0.2) (2023.3.post1)\n",
            "Requirement already satisfied: threadpoolctl>=2.0.0 in /usr/local/lib/python3.10/dist-packages (from scikit-learn>=0.22->pmdarima==2.0.2) (3.2.0)\n",
            "Requirement already satisfied: patsy>=0.5.2 in /usr/local/lib/python3.10/dist-packages (from statsmodels>=0.13.2->pmdarima==2.0.2) (0.5.3)\n",
            "Requirement already satisfied: packaging>=21.3 in /usr/local/lib/python3.10/dist-packages (from statsmodels>=0.13.2->pmdarima==2.0.2) (23.2)\n",
            "Requirement already satisfied: six in /usr/local/lib/python3.10/dist-packages (from patsy>=0.5.2->statsmodels>=0.13.2->pmdarima==2.0.2) (1.16.0)\n",
            "Installing collected packages: pmdarima\n",
            "  Attempting uninstall: pmdarima\n",
            "    Found existing installation: pmdarima 2.0.4\n",
            "    Uninstalling pmdarima-2.0.4:\n",
            "      Successfully uninstalled pmdarima-2.0.4\n",
            "Successfully installed pmdarima-2.0.2\n"
          ]
        }
      ],
      "source": [
        "!pip install -qy pandas==1.3.4 numpy==1.21.4 seaborn==0.9.0 matplotlib==3.5.0 scikit-learn==0.20.1\n",
        "!pip install pmdarima -U\n",
        "!pip install --upgrade pmdarima==2.0.2"
      ]
    },
    {
      "cell_type": "code",
      "source": [
        "import os\n",
        "from PIL import Image\n",
        "import numpy as np\n",
        "import matplotlib.pyplot as plt\n",
        "import torch\n",
        "import torchvision\n",
        "from torchvision.datasets import CIFAR10\n",
        "from torchvision import transforms\n",
        "from torchvision.utils import make_grid\n",
        "import torch.nn as nn\n",
        "from torchvision import transforms\n",
        "from matplotlib.pyplot import figure\n",
        "from sklearn.manifold import TSNE\n",
        "from tqdm import tqdm\n",
        "import torch.optim as optim\n",
        "import torch.nn.functional as F\n",
        "from torch.optim.lr_scheduler import ExponentialLR"
      ],
      "metadata": {
        "id": "Kshja7V5RqCs"
      },
      "execution_count": null,
      "outputs": []
    },
    {
      "cell_type": "code",
      "source": [
        "!pip install -U scikit-learn"
      ],
      "metadata": {
        "colab": {
          "base_uri": "https://localhost:8080/"
        },
        "id": "fEuRkWMBR_9N",
        "outputId": "9e9afde9-dc33-4082-ddbc-3526eb481905"
      },
      "execution_count": null,
      "outputs": [
        {
          "output_type": "stream",
          "name": "stdout",
          "text": [
            "Requirement already satisfied: scikit-learn in /usr/local/lib/python3.10/dist-packages (1.3.2)\n",
            "Requirement already satisfied: numpy<2.0,>=1.17.3 in /usr/local/lib/python3.10/dist-packages (from scikit-learn) (1.23.5)\n",
            "Requirement already satisfied: scipy>=1.5.0 in /usr/local/lib/python3.10/dist-packages (from scikit-learn) (1.11.3)\n",
            "Requirement already satisfied: joblib>=1.1.1 in /usr/local/lib/python3.10/dist-packages (from scikit-learn) (1.3.2)\n",
            "Requirement already satisfied: threadpoolctl>=2.0.0 in /usr/local/lib/python3.10/dist-packages (from scikit-learn) (3.2.0)\n"
          ]
        }
      ]
    },
    {
      "cell_type": "markdown",
      "source": [
        "Defining Helper Functions\n",
        "\n",
        "To Plot randomly selected samples from a dataset."
      ],
      "metadata": {
        "id": "jGS5bwbhUSC7"
      }
    },
    {
      "cell_type": "code",
      "source": [
        "def plot_samples(dataset, size_even=6, classes=None):\n",
        "\n",
        "    size_even = 6  # Default number of samples to plot\n",
        "    dataset = train_set  # Default dataset to use (assuming 'train_set')\n",
        "    fig, axs = plt.subplots(2, int(size_even // 2))  # Create subplots for the samples\n",
        "\n",
        "    if classes is None:\n",
        "        classes = tuple([n for n in range(len(dataset))])  # Default class labels\n",
        "\n",
        "    n_samples = len(dataset)  # Total number of samples in the dataset\n",
        "\n",
        "    # Randomly select samples\n",
        "    samples = np.random.randint(0, high=n_samples - 1, size=int(size_even))\n",
        "\n",
        "    row = 0\n",
        "    col = 0\n",
        "    for n, sample in enumerate(samples):\n",
        "        img = dataset[sample][0]  # Get the image from the dataset\n",
        "        label = \"y={}\".format(classes[int(dataset[sample][1])])  # Get the label for the image\n",
        "\n",
        "        col = n\n",
        "\n",
        "        # Determine the row and column index for the current sample\n",
        "        if n > size_even / 2 - 1:\n",
        "            row = 1\n",
        "            col = n - int(size_even / 2)\n",
        "\n",
        "        # Display the image and label in the corresponding subplot\n",
        "        axs[row, col].imshow(make_grid(img, normalize=True).permute(1, 2, 0))\n",
        "        axs[row, col].set_title(label)\n",
        "        axs[row, col].axis('off')"
      ],
      "metadata": {
        "id": "4TF9HeVPSHM-"
      },
      "execution_count": null,
      "outputs": []
    },
    {
      "cell_type": "code",
      "source": [
        "def plot_samples(dataset, size_even=6, classes=None):\n",
        "\n",
        "    size_even = 6  # Default number of samples to plot\n",
        "    dataset = train_set  # Default dataset to use (assuming 'train_set')\n",
        "    fig, axs = plt.subplots(2, int(size_even // 2))  # Create subplots for the samples\n",
        "\n",
        "    if classes is None:\n",
        "        classes = tuple([n for n in range(len(dataset))])  # Default class labels\n",
        "\n",
        "    n_samples = len(dataset)  # Total number of samples in the dataset\n",
        "\n",
        "    # Randomly select samples\n",
        "    samples = np.random.randint(0, high=n_samples - 1, size=int(size_even))\n",
        "\n",
        "    row = 0\n",
        "    col = 0\n",
        "    for n, sample in enumerate(samples):\n",
        "        img = dataset[sample][0]  # Get the image from the dataset\n",
        "        label = \"y={}\".format(classes[int(dataset[sample][1])])  # Get the label for the image\n",
        "\n",
        "        col = n\n",
        "\n",
        "        # Determine the row and column index for the current sample\n",
        "        if n > size_even / 2 - 1:\n",
        "            row = 1\n",
        "            col = n - int(size_even / 2)\n",
        "\n",
        "        # Display the image and label in the corresponding subplot\n",
        "        axs[row, col].imshow(make_grid(img, normalize=True).permute(1, 2, 0))\n",
        "        axs[row, col].set_title(label)\n",
        "        axs[row, col].axis('off')"
      ],
      "metadata": {
        "id": "uH-H67w0UFZZ"
      },
      "execution_count": null,
      "outputs": []
    },
    {
      "cell_type": "code",
      "source": [
        "def plot_image_patchs(patchs, seq=False):\n",
        "\n",
        "    if patchs.shape[-3] == 1:\n",
        "        patchs = patchs.repeat(1, 1, 3, 1, 1)  # Add 3 channel dimension if image is grayscale\n",
        "\n",
        "    N_patchs = patchs.shape[1]  # Number of image patches\n",
        "\n",
        "    plot_patchs = make_grid(patchs, normalize=True).permute(0, 2, 3, 1)  # Arrange patches for plotting\n",
        "\n",
        "    N_rows = int(np.sqrt(N_patchs))  # Number of rows for the grid plot\n",
        "\n",
        "    # Create subplots for the image patches\n",
        "    if seq:\n",
        "        fig, ax = plt.subplots(1, N_rows * N_rows, sharex='col', sharey='row', figsize=(25, 5))\n",
        "        fig.suptitle(\"Image as Sequence\")\n",
        "    else:\n",
        "        fig, ax = plt.subplots(N_rows, N_rows, sharex='col', sharey='row')\n",
        "        fig.suptitle(\"Image\")\n",
        "\n",
        "    i, j = 0, 0\n",
        "    for n in range(N_patchs):\n",
        "        if seq:\n",
        "            ax[n].imshow(plot_patchs[n])\n",
        "            ax[n].set_xlabel(str(n + 1))\n",
        "            ax[n].axes.xaxis.set_ticklabels([])\n",
        "            ax[n].axes.yaxis.set_ticklabels([])\n",
        "        else:\n",
        "            if n % N_rows == 0 and n != 0:\n",
        "                i += 1\n",
        "                j = 0\n",
        "\n",
        "            ax[i, j].imshow(plot_patchs[n])\n",
        "            ax[i, j].set_ylabel(str(n + 1))\n",
        "            ax[i, j].axes.xaxis.set_ticklabels([])\n",
        "            ax[i, j].axes.yaxis.set_ticklabels([])\n",
        "            j += 1\n",
        "\n",
        "    plt.show()"
      ],
      "metadata": {
        "id": "93tBQ-tuU1Yd"
      },
      "execution_count": null,
      "outputs": []
    },
    {
      "cell_type": "code",
      "source": [
        "def plot_patchs_lables(X, y, label=True, p_show=0.5):\n",
        "\n",
        "    # Detach X from its computational graph if it's not a leaf node\n",
        "    if not (X.is_leaf):\n",
        "        X = X.detach()\n",
        "\n",
        "    # Get the shape of the input tensor X\n",
        "    if X.shape[0] == 49:\n",
        "        sample = X.shape[1]\n",
        "        patch = X.shape[0]  # Patch size or sequence length\n",
        "        dim = X.shape[2]\n",
        "    if X.shape[0] == 1000:\n",
        "        sample = X.shape[0]\n",
        "        patch = X.shape[1]\n",
        "        dim = X.shape[2]\n",
        "\n",
        "    # Reshape X and convert it to a numpy array\n",
        "    X = X.reshape(sample * patch, dim).numpy()\n",
        "\n",
        "    # Flatten the y tensor and convert it to a numpy array to label each sequence\n",
        "    colors = y.repeat(patch, 1).T.flatten().numpy()\n",
        "\n",
        "    # Perform t-SNE on the X data\n",
        "    X_ = TSNE(n_components=2, learning_rate='auto', init='random').fit_transform(X)\n",
        "\n",
        "    # Create a scatter plot of the t-SNE transformed X data with each class labeled via color\n",
        "    fig, ax = plt.subplots()\n",
        "    for color in np.unique(colors):\n",
        "        temp = colors == color\n",
        "        ax.scatter(X_[temp, 0], X_[temp, 1], label=color)\n",
        "\n",
        "    # If the label argument is set to True, add labels to the scatter plot\n",
        "    if label:\n",
        "        for i, x in enumerate(X_):\n",
        "            # Label plots with a probability of p_show\n",
        "            if np.random.binomial(1, p_show, 1).item() == 1:\n",
        "                ax.annotate(str(i % patch), (x[0], x[1]))\n",
        "\n",
        "    # Add a legend to the scatter plot\n",
        "    ax.legend()"
      ],
      "metadata": {
        "id": "Oqi6Sh3VU1zn"
      },
      "execution_count": null,
      "outputs": []
    },
    {
      "cell_type": "code",
      "source": [
        "def img_to_patch(x, patch_size, flatten_channels=True):\n",
        "\n",
        "    B, C, H, W = x.shape\n",
        "    x = x.reshape(B, C, H//patch_size, patch_size, W//patch_size, patch_size)\n",
        "    x = x.permute(0, 2, 4, 1, 3, 5) # [B, H', W', C, p_H, p_W]\n",
        "    x = x.flatten(1,2)              # [B, H'*W', C, p_H, p_W]\n",
        "    if flatten_channels:\n",
        "        x = x.flatten(2,4)          # [B, H'*W', C*p_H*p_W]\n",
        "    return x"
      ],
      "metadata": {
        "id": "uPxG5dF_VJva"
      },
      "execution_count": null,
      "outputs": []
    },
    {
      "cell_type": "code",
      "source": [
        "BATCH_SIZE_TRAIN = 100\n",
        "BATCH_SIZE_TEST = 1000\n",
        "\n",
        "transform_mnist = torchvision.transforms.Compose([torchvision.transforms.ToTensor(),\n",
        "                               torchvision.transforms.Normalize((0.1307,), (0.3081,))])\n",
        "\n",
        "train_set = torchvision.datasets.MNIST(root='.',train=True, download=True,\n",
        "                                       transform=transform_mnist)\n",
        "\n",
        "test_set = torchvision.datasets.MNIST(root='.',train=False, download=True,\n",
        "                                      transform=transform_mnist)"
      ],
      "metadata": {
        "colab": {
          "base_uri": "https://localhost:8080/"
        },
        "id": "Ml6CwC05VJ8S",
        "outputId": "c51c8400-d0f9-494e-e0e1-3b23cb7bf2cb"
      },
      "execution_count": null,
      "outputs": [
        {
          "output_type": "stream",
          "name": "stdout",
          "text": [
            "Downloading http://yann.lecun.com/exdb/mnist/train-images-idx3-ubyte.gz\n",
            "Downloading http://yann.lecun.com/exdb/mnist/train-images-idx3-ubyte.gz to ./MNIST/raw/train-images-idx3-ubyte.gz\n"
          ]
        },
        {
          "output_type": "stream",
          "name": "stderr",
          "text": [
            "100%|██████████| 9912422/9912422 [00:00<00:00, 29273454.27it/s]\n"
          ]
        },
        {
          "output_type": "stream",
          "name": "stdout",
          "text": [
            "Extracting ./MNIST/raw/train-images-idx3-ubyte.gz to ./MNIST/raw\n",
            "\n",
            "Downloading http://yann.lecun.com/exdb/mnist/train-labels-idx1-ubyte.gz\n",
            "Downloading http://yann.lecun.com/exdb/mnist/train-labels-idx1-ubyte.gz to ./MNIST/raw/train-labels-idx1-ubyte.gz\n"
          ]
        },
        {
          "output_type": "stream",
          "name": "stderr",
          "text": [
            "100%|██████████| 28881/28881 [00:00<00:00, 18136800.99it/s]\n"
          ]
        },
        {
          "output_type": "stream",
          "name": "stdout",
          "text": [
            "Extracting ./MNIST/raw/train-labels-idx1-ubyte.gz to ./MNIST/raw\n",
            "\n",
            "Downloading http://yann.lecun.com/exdb/mnist/t10k-images-idx3-ubyte.gz\n",
            "Downloading http://yann.lecun.com/exdb/mnist/t10k-images-idx3-ubyte.gz to ./MNIST/raw/t10k-images-idx3-ubyte.gz\n"
          ]
        },
        {
          "output_type": "stream",
          "name": "stderr",
          "text": [
            "100%|██████████| 1648877/1648877 [00:00<00:00, 25293559.10it/s]\n"
          ]
        },
        {
          "output_type": "stream",
          "name": "stdout",
          "text": [
            "Extracting ./MNIST/raw/t10k-images-idx3-ubyte.gz to ./MNIST/raw\n",
            "\n",
            "Downloading http://yann.lecun.com/exdb/mnist/t10k-labels-idx1-ubyte.gz\n",
            "Downloading http://yann.lecun.com/exdb/mnist/t10k-labels-idx1-ubyte.gz to ./MNIST/raw/t10k-labels-idx1-ubyte.gz\n"
          ]
        },
        {
          "output_type": "stream",
          "name": "stderr",
          "text": [
            "100%|██████████| 4542/4542 [00:00<00:00, 11566805.57it/s]\n"
          ]
        },
        {
          "output_type": "stream",
          "name": "stdout",
          "text": [
            "Extracting ./MNIST/raw/t10k-labels-idx1-ubyte.gz to ./MNIST/raw\n",
            "\n"
          ]
        }
      ]
    },
    {
      "cell_type": "code",
      "source": [
        "train_loader = torch.utils.data.DataLoader(train_set, batch_size=BATCH_SIZE_TRAIN, shuffle=True)\n",
        "test_loader = torch.utils.data.DataLoader(test_set, batch_size=BATCH_SIZE_TEST, shuffle=True)"
      ],
      "metadata": {
        "id": "ihuu3fNiVKHT"
      },
      "execution_count": null,
      "outputs": []
    },
    {
      "cell_type": "code",
      "source": [
        "it=iter(test_loader)\n",
        "image=next(it)[0]"
      ],
      "metadata": {
        "id": "kbgy-rg7VKSa"
      },
      "execution_count": null,
      "outputs": []
    },
    {
      "cell_type": "code",
      "source": [
        "B, C, H, W = image.shape\n",
        "print(\"batch size: {}, number of channels: {}, height: {},  width: {}\".format( B, C, H, W ))"
      ],
      "metadata": {
        "colab": {
          "base_uri": "https://localhost:8080/"
        },
        "id": "drjC9r_6WwMM",
        "outputId": "c5b14adc-8474-43ea-a95e-c79634af4cc5"
      },
      "execution_count": null,
      "outputs": [
        {
          "output_type": "stream",
          "name": "stdout",
          "text": [
            "batch size: 1000, number of channels: 1, height: 28,  width: 28\n"
          ]
        }
      ]
    },
    {
      "cell_type": "code",
      "source": [
        "image[0][0].shape"
      ],
      "metadata": {
        "colab": {
          "base_uri": "https://localhost:8080/"
        },
        "id": "8lVqhqTlW_aP",
        "outputId": "babb7f7b-52df-4a48-bd1e-f17239fb6f17"
      },
      "execution_count": null,
      "outputs": [
        {
          "output_type": "execute_result",
          "data": {
            "text/plain": [
              "torch.Size([28, 28])"
            ]
          },
          "metadata": {},
          "execution_count": 20
        }
      ]
    },
    {
      "cell_type": "code",
      "source": [
        "plt.imshow(image[0][0].numpy(),cmap=\"gray\")\n",
        "plt.show()"
      ],
      "metadata": {
        "colab": {
          "base_uri": "https://localhost:8080/",
          "height": 430
        },
        "id": "1qswoayAW_gP",
        "outputId": "a42c961c-ad9d-4785-8480-c8eb62772fa1"
      },
      "execution_count": null,
      "outputs": [
        {
          "output_type": "display_data",
          "data": {
            "text/plain": [
              "<Figure size 640x480 with 1 Axes>"
            ],
            "image/png": "[encoded data removed]"
          },
          "metadata": {}
        }
      ]
    },
    {
      "cell_type": "code",
      "source": [
        "patch_size=4\n",
        "\n",
        "n_patches=(H/patch_size)* (W/patch_size)\n",
        "n_patches"
      ],
      "metadata": {
        "colab": {
          "base_uri": "https://localhost:8080/"
        },
        "id": "mNBYLEaVW_mw",
        "outputId": "34c822a8-e2b1-4221-fdfd-f9565151c837"
      },
      "execution_count": null,
      "outputs": [
        {
          "output_type": "execute_result",
          "data": {
            "text/plain": [
              "49.0"
            ]
          },
          "metadata": {},
          "execution_count": 22
        }
      ]
    },
    {
      "cell_type": "code",
      "source": [
        "patches=img_to_patch(torch.unsqueeze(test_set[1][0],0), patch_size, flatten_channels=False)"
      ],
      "metadata": {
        "id": "6er2jywAXP5E"
      },
      "execution_count": null,
      "outputs": []
    },
    {
      "cell_type": "code",
      "source": [
        "patches.shape"
      ],
      "metadata": {
        "colab": {
          "base_uri": "https://localhost:8080/"
        },
        "id": "4_JIziRRXQBE",
        "outputId": "e249627f-c775-4751-c294-d0c28359b2d8"
      },
      "execution_count": null,
      "outputs": [
        {
          "output_type": "execute_result",
          "data": {
            "text/plain": [
              "torch.Size([1, 49, 1, 4, 4])"
            ]
          },
          "metadata": {},
          "execution_count": 24
        }
      ]
    },
    {
      "cell_type": "code",
      "source": [
        "plot_image_patchs(patches)"
      ],
      "metadata": {
        "colab": {
          "base_uri": "https://localhost:8080/",
          "height": 459
        },
        "id": "glT2tw1FXQLL",
        "outputId": "4e70bc54-3e26-4ef1-8ce3-89ca28f764d8"
      },
      "execution_count": null,
      "outputs": [
        {
          "output_type": "display_data",
          "data": {
            "text/plain": [
              "<Figure size 640x480 with 49 Axes>"
            ],
            "image/png": "[encoded data removed]"
          },
          "metadata": {}
        }
      ]
    },
    {
      "cell_type": "code",
      "source": [
        "plot_image_patchs(patches, seq=True)"
      ],
      "metadata": {
        "colab": {
          "base_uri": "https://localhost:8080/",
          "height": 239
        },
        "id": "9rPPpQIBXltl",
        "outputId": "19b4330b-27e6-41e1-c496-37642cb54a27"
      },
      "execution_count": null,
      "outputs": [
        {
          "output_type": "display_data",
          "data": {
            "text/plain": [
              "<Figure size 2500x500 with 49 Axes>"
            ],
            "image/png": "[encoded data removed]"
          },
          "metadata": {}
        }
      ]
    },
    {
      "cell_type": "code",
      "source": [
        "class AttentionBlock(nn.Module):\n",
        "\n",
        "    def __init__(self, embed_dim, hidden_dim, num_heads, dropout=0.0):\n",
        "        \"\"\"\n",
        "        Inputs:\n",
        "            embed_dim - Dimensionality of input and attention feature vectors\n",
        "            hidden_dim - Dimensionality of hidden layer in feed-forward network\n",
        "                         (usually 2-4x larger than embed_dim)\n",
        "            num_heads - Number of heads to use in the Multi-Head Attention block\n",
        "            dropout - Amount of dropout to apply in the feed-forward network\n",
        "            #source:https://uvadlc-notebooks.readthedocs.io/en/latest/tutorial_notebooks/tutorial15/Vision_Transformer.html\n",
        "        \"\"\"\n",
        "        super().__init__()\n",
        "\n",
        "        self.layer_norm_1 = nn.LayerNorm(embed_dim)\n",
        "        self.attn = nn.MultiheadAttention(embed_dim, num_heads,\n",
        "                                          dropout=dropout)\n",
        "        self.layer_norm_2 = nn.LayerNorm(embed_dim)\n",
        "        self.linear = nn.Sequential(\n",
        "            nn.Linear(embed_dim, hidden_dim),\n",
        "            nn.GELU(),\n",
        "            nn.Dropout(dropout),\n",
        "            nn.Linear(hidden_dim, embed_dim),\n",
        "            nn.Dropout(dropout)\n",
        "        )\n",
        "\n",
        "\n",
        "    def forward(self, x):\n",
        "        inp_x = self.layer_norm_1(x)\n",
        "        x = x + self.attn(inp_x, inp_x, inp_x)[0]\n",
        "        x = x + self.linear(self.layer_norm_2(x))\n",
        "        return x"
      ],
      "metadata": {
        "id": "4shptNKxXl7I"
      },
      "execution_count": null,
      "outputs": []
    },
    {
      "cell_type": "code",
      "source": [
        "class VisionTransformer(nn.Module):\n",
        "\n",
        "    def __init__(self, embed_dim, hidden_dim, num_channels, num_heads, num_layers, num_classes, patch_size, num_patches, dropout=0.0):\n",
        "\n",
        "        super().__init__()\n",
        "\n",
        "        self.patch_size = patch_size\n",
        "\n",
        "        # Layers/Networks\n",
        "        self.input_layer = nn.Linear(num_channels*(patch_size**2), embed_dim)\n",
        "        self.transformer = nn.Sequential(*[AttentionBlock(embed_dim, hidden_dim, num_heads, dropout=dropout) for _ in range(num_layers)])\n",
        "        self.mlp_head = nn.Sequential(\n",
        "            nn.LayerNorm(embed_dim),\n",
        "            nn.Linear(embed_dim, num_classes)\n",
        "        )\n",
        "        self.dropout = nn.Dropout(dropout)\n",
        "\n",
        "        # Parameters/Embeddings\n",
        "        self.cls_token = nn.Parameter(torch.randn(1,1,embed_dim))\n",
        "        self.pos_embedding = nn.Parameter(torch.randn(1,1+num_patches,embed_dim))\n",
        "        print(num_patches)\n",
        "\n",
        "\n",
        "    def forward(self, x):\n",
        "        # Preprocess input\n",
        "        x = img_to_patch(x, self.patch_size)\n",
        "        B, T, _ = x.shape\n",
        "        x = self.input_layer(x)\n",
        "\n",
        "        # Add CLS token and positional encoding\n",
        "        cls_token = self.cls_token.repeat(B, 1, 1)\n",
        "        x = torch.cat([cls_token, x], dim=1)\n",
        "\n",
        "        x = x + self.pos_embedding[:,:T+1]\n",
        "\n",
        "        # Apply Transforrmer\n",
        "        x = self.dropout(x)\n",
        "        x = x.transpose(0, 1)\n",
        "        x = self.transformer(x)\n",
        "\n",
        "        # Perform classification prediction\n",
        "        cls = x[0]\n",
        "        out = self.mlp_head(cls)\n",
        "        return out"
      ],
      "metadata": {
        "id": "Q01CkDX5XmFp"
      },
      "execution_count": null,
      "outputs": []
    },
    {
      "cell_type": "code",
      "source": [
        "embed_dim= 256\n",
        "hidden_dim=512\n",
        "num_heads= 8\n",
        "num_layers=6\n",
        "patch_size=4\n",
        "num_channels=1\n",
        "num_patches=64\n",
        "num_classes=10\n",
        "dropout=0.2\n",
        "model=VisionTransformer( embed_dim= embed_dim, hidden_dim=hidden_dim, num_channels=num_channels, num_heads=num_heads, num_layers=num_layers, num_classes=num_classes, patch_size=patch_size, num_patches=num_patches, dropout=dropout)"
      ],
      "metadata": {
        "colab": {
          "base_uri": "https://localhost:8080/"
        },
        "id": "SjuIb3t6XmP4",
        "outputId": "164fe35e-2952-4427-dfad-987ee29ce9df"
      },
      "execution_count": null,
      "outputs": [
        {
          "output_type": "stream",
          "name": "stdout",
          "text": [
            "64\n"
          ]
        }
      ]
    },
    {
      "cell_type": "code",
      "source": [
        "device = torch.device('cuda:0' if torch.cuda.is_available() else 'cpu')\n",
        "model.to(device)\n",
        "device"
      ],
      "metadata": {
        "colab": {
          "base_uri": "https://localhost:8080/"
        },
        "id": "v0GFd3TzXmZ8",
        "outputId": "947d8e31-fe1c-4dae-f975-bfa8acdfba71"
      },
      "execution_count": null,
      "outputs": [
        {
          "output_type": "execute_result",
          "data": {
            "text/plain": [
              "device(type='cpu')"
            ]
          },
          "metadata": {},
          "execution_count": 31
        }
      ]
    },
    {
      "cell_type": "code",
      "source": [
        "lr=3e-4\n",
        "criterion = nn.CrossEntropyLoss()\n",
        "optimizer = optim.AdamW(model.parameters(), lr=lr)\n",
        "scheduler = ExponentialLR(optimizer, gamma=0.9)"
      ],
      "metadata": {
        "id": "PyQycOQQYtxg"
      },
      "execution_count": null,
      "outputs": []
    },
    {
      "cell_type": "code",
      "source": [
        "'''\n",
        "useful_stuff = {'training_loss': [], 'validation_accuracy': []}\n",
        "correct_old=0\n",
        "\n",
        "for epoch in tqdm(range(100)):  # loop over the dataset multiple times\n",
        "\n",
        "    running_loss = 0.0\n",
        "    for i, data in enumerate(train_loader):\n",
        "        # get the inputs; data is a list of [inputs, labels]\n",
        "        inputs, labels = data[0].to(device), data[1].to(device)\n",
        "\n",
        "        # zero the parameter gradients\n",
        "        optimizer.zero_grad()\n",
        "\n",
        "        # forward + backward + optimize\n",
        "        model.train()\n",
        "        outputs = model(inputs)\n",
        "\n",
        "        loss = criterion(outputs, labels)\n",
        "        loss.backward()\n",
        "        optimizer.step()\n",
        "\n",
        "        # print statistics\n",
        "        running_loss += loss.item()\n",
        "\n",
        "        if i % 2000 == 1999:    # print every 2000 mini-batches\n",
        "            print(f'[{epoch + 1}, {i + 1:5d}] loss: {running_loss / 2000:.3f}')\n",
        "            running_loss = 0.0\n",
        "    scheduler.step()\n",
        "    useful_stuff['training_loss'].append(running_loss)\n",
        "    correct = 0\n",
        "    model.eval()\n",
        "\n",
        "    for inputs, labels in test_loader:\n",
        "      inputs, labels = inputs.to(device), labels.to(device)\n",
        "      z = model(inputs)\n",
        "      _, yhat = torch.max(z, 1)\n",
        "      correct += (yhat == labels).sum().item()\n",
        "      if correct>correct_old:\n",
        "          correct_old=correct\n",
        "\n",
        "    useful_stuff['validation_accuracy'].append(correct_old/len(test_set))\n",
        "print('Finished Training')\n",
        "'''"
      ],
      "metadata": {
        "colab": {
          "base_uri": "https://localhost:8080/",
          "height": 123
        },
        "id": "JwvLZp23YuAE",
        "outputId": "e1603be8-e96c-43f5-cc9d-029c4223389c"
      },
      "execution_count": null,
      "outputs": [
        {
          "output_type": "execute_result",
          "data": {
            "text/plain": [
              "\"\\nuseful_stuff = {'training_loss': [], 'validation_accuracy': []}\\ncorrect_old=0\\n\\nfor epoch in tqdm(range(100)):  # loop over the dataset multiple times\\n\\n    running_loss = 0.0\\n    for i, data in enumerate(train_loader):\\n        # get the inputs; data is a list of [inputs, labels]\\n        inputs, labels = data[0].to(device), data[1].to(device)\\n\\n        # zero the parameter gradients\\n        optimizer.zero_grad()\\n\\n        # forward + backward + optimize\\n        model.train()\\n        outputs = model(inputs)\\n\\n        loss = criterion(outputs, labels)\\n        loss.backward()\\n        optimizer.step()\\n\\n        # print statistics\\n        running_loss += loss.item()\\n\\n        if i % 2000 == 1999:    # print every 2000 mini-batches\\n            print(f'[{epoch + 1}, {i + 1:5d}] loss: {running_loss / 2000:.3f}')\\n            running_loss = 0.0\\n    scheduler.step()\\n    useful_stuff['training_loss'].append(running_loss)\\n    correct = 0\\n    model.eval()\\n\\n    for inputs, labels in test_loader:\\n      inputs, labels = inputs.to(device), labels.to(device)\\n      z = model(inputs)\\n      _, yhat = torch.max(z, 1)\\n      correct += (yhat == labels).sum().item()\\n      if correct>correct_old:\\n          correct_old=correct\\n\\n    useful_stuff['validation_accuracy'].append(correct_old/len(test_set))\\nprint('Finished Training')\\n\""
            ],
            "application/vnd.google.colaboratory.intrinsic+json": {
              "type": "string"
            }
          },
          "metadata": {},
          "execution_count": 33
        }
      ]
    },
    {
      "cell_type": "code",
      "source": [
        "it=iter(test_loader)\n",
        "images= next(it)"
      ],
      "metadata": {
        "id": "isn6QKEFZp54"
      },
      "execution_count": null,
      "outputs": []
    },
    {
      "cell_type": "code",
      "source": [
        "number_samples = 100\n",
        "\n",
        "# Create a random input tensor\n",
        "input_tensor = images[0:number_samples][0]\n",
        "input_labels = images[0:number_samples][1]\n",
        "\n",
        "# Define a list to store the activation values\n",
        "activations = []\n",
        "\n",
        "# Define a custom activation hook function\n",
        "def activation_hook(module, input, output):\n",
        "    activations.append(output.detach())"
      ],
      "metadata": {
        "id": "c7zzkob5aMm4"
      },
      "execution_count": null,
      "outputs": []
    },
    {
      "cell_type": "code",
      "source": [
        "# Iterate over all the modules in the network\n",
        "for module in model.modules():\n",
        "    # Register the activation hook to the desired layers\n",
        "    if isinstance(module, nn.Linear):\n",
        "        module.register_forward_hook(activation_hook)\n",
        "\n",
        "with torch.no_grad():\n",
        "    output = model(input_tensor)"
      ],
      "metadata": {
        "id": "dDrwFv6ZaMx5"
      },
      "execution_count": null,
      "outputs": []
    }
  ]
}